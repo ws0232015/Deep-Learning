{
 "cells": [
  {
   "cell_type": "markdown",
   "metadata": {},
   "source": [
    "&copy;Copyright for [Shuang Wu] [2017]<br>\n",
    "Cite from the [coursera] named [Neural network for Machine Learning] from [University of Toronto]<br>\n",
    "Learning notes<br>"
   ]
  },
  {
   "cell_type": "markdown",
   "metadata": {},
   "source": [
    "# Lecture 1"
   ]
  },
  {
   "cell_type": "markdown",
   "metadata": {},
   "source": [
    "### Why do we need machine learning?\n",
    "\n",
    "#### What is ML?<br>\n",
    "1. hard to write programs that can recongnizing 3-D object from a novel viewpoint in new lighting condistions in a cluttered scene.<br>\n",
    "    (1). Don't know neither how to write this program nor how brain work with this problem.<br>\n",
    "    (2). Program maybe horrendously complicated.<br>\n",
    "2. hard to write program to compute the probability that a credit card fraudulent transaction.<br>\n",
    "    (1). no simple or reliable rule and need combine large # of weak rules.<br>\n",
    "    (2). Program need keep changing to follow the fraud.<br>\n",
    "        \n",
    "#### The mML Approach<br>\n",
    "1. Instead write program for each task, collecting lots of examples that specift the correct output for given input.<br>\n",
    "2. ML algorithm takes the problem and produces program that does the job<br>\n",
    "    (1). Program produced by ML may different from hand-written program. Containning millions of #s.<br>\n",
    "    (2). If right, program works for both new cases and the training one.<br>\n",
    "    (3). Data change, program change, training on new data.<br>\n",
    "3. Massive amounts of computation now cheaper than write task-specific program.<br> "
   ]
  },
  {
   "cell_type": "markdown",
   "metadata": {},
   "source": []
  }
 ],
 "metadata": {
  "kernelspec": {
   "display_name": "Python 3",
   "language": "python",
   "name": "python3"
  },
  "language_info": {
   "codemirror_mode": {
    "name": "ipython",
    "version": 3
   },
   "file_extension": ".py",
   "mimetype": "text/x-python",
   "name": "python",
   "nbconvert_exporter": "python",
   "pygments_lexer": "ipython3",
   "version": "3.6.1"
  }
 },
 "nbformat": 4,
 "nbformat_minor": 2
}
