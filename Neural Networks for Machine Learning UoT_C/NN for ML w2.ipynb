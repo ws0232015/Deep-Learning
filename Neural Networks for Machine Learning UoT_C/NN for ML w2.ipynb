{
 "cells": [
  {
   "cell_type": "markdown",
   "metadata": {},
   "source": [
    "&copy;Copyright for [Shuang Wu] [2017]<br>\n",
    "Cite from the [coursera] named [Neural network for Machine Learning] from [University of Toronto]<br>\n",
    "Learning notes<br>"
   ]
  },
  {
   "cell_type": "markdown",
   "metadata": {},
   "source": [
    "## Overview of the main types of NN arch\n",
    "\n",
    "### Feed-forward NN\n",
    "* Commonest type of NN<br>\n",
    "    * first layer, input<br>\n",
    "    * last layer, output<br>\n",
    "    * more than one hidden layer, \"deep\" NN<br>\n",
    "* Compute series of transformations that change the similarities b/w cases<br>\n",
    "    * activities of the neurons are non-linear function of the "
   ]
  },
  {
   "cell_type": "code",
   "execution_count": null,
   "metadata": {
    "collapsed": true
   },
   "outputs": [],
   "source": []
  }
 ],
 "metadata": {
  "kernelspec": {
   "display_name": "Python 3",
   "language": "python",
   "name": "python3"
  },
  "language_info": {
   "codemirror_mode": {
    "name": "ipython",
    "version": 3
   },
   "file_extension": ".py",
   "mimetype": "text/x-python",
   "name": "python",
   "nbconvert_exporter": "python",
   "pygments_lexer": "ipython3",
   "version": "3.6.0"
  }
 },
 "nbformat": 4,
 "nbformat_minor": 2
}
