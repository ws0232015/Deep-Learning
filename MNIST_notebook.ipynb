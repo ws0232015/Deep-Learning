{
 "cells": [
  {
   "cell_type": "markdown",
   "metadata": {},
   "source": [
    "Copyright (c) 2017 Shuang Wu"
   ]
  },
  {
   "cell_type": "markdown",
   "metadata": {},
   "source": [
    "# Package Import"
   ]
  },
  {
   "cell_type": "markdown",
   "metadata": {},
   "source": [
    "Include package for data read and CNN"
   ]
  },
  {
   "cell_type": "code",
   "execution_count": 1,
   "metadata": {
    "collapsed": true
   },
   "outputs": [],
   "source": [
    "import numpy as np\n",
    "import struct\n",
    "import matplotlib.pyplot as plt\n",
    "from PIL import Image\n",
    "import struct"
   ]
  },
  {
   "cell_type": "markdown",
   "metadata": {},
   "source": [
    "# Raw image transfer to Data"
   ]
  },
  {
   "cell_type": "markdown",
   "metadata": {},
   "source": [
    "### Train image data"
   ]
  },
  {
   "cell_type": "markdown",
   "metadata": {},
   "source": [
    "The data will be store in n dim list named train_img. The length of the train_img is 60000, list, and for each row the size is 1\\*784. The 784 is 28\\*28 which is the orginal pixel for the input image. Index from 0 to 59999."
   ]
  },
  {
   "cell_type": "code",
   "execution_count": 5,
   "metadata": {
    "collapsed": true
   },
   "outputs": [],
   "source": [
    "f = open('train-images.idx3-ubyte', 'rb')\n",
    "index = 0\n",
    "buf = f.read()\n",
    "f.close()\n",
    "magic, images, rows, columns = struct.unpack_from('>IIII' , buf , index)\n",
    "index += struct.calcsize('>IIII')\n",
    "train_img = []\n",
    "for i in range(images):\n",
    "    image = Image.new('L', (columns, rows))\n",
    "    for x in range(rows):\n",
    "        for y in range(columns):\n",
    "            image.putpixel((y, x), int(struct.unpack_from('>B', buf, index)[0]))\n",
    "            index += struct.calcsize('>B')\n",
    "    train_img.append(np.array(image).reshape(1,784)[0])"
   ]
  },
  {
   "cell_type": "markdown",
   "metadata": {},
   "source": [
    "### Train image Label"
   ]
  },
  {
   "cell_type": "markdown",
   "metadata": {},
   "source": [
    "The labels will be store in the train_labelArr with the length 60000, list. Each row indicate the label for the corresponding image. Index from 0 to 59999."
   ]
  },
  {
   "cell_type": "code",
   "execution_count": 6,
   "metadata": {
    "collapsed": true
   },
   "outputs": [],
   "source": [
    "f = open('train-labels.idx1-ubyte', 'rb')\n",
    "index = 0\n",
    "buf = f.read()\n",
    "f.close()\n",
    "magic, labels = struct.unpack_from('>II' , buf , index)\n",
    "index += struct.calcsize('>II')\n",
    "train_labelArr = [0] * labels\n",
    "for x in range(labels):\n",
    "    train_labelArr[x] = int(struct.unpack_from('>B', buf, index)[0])\n",
    "    index += struct.calcsize('>B')"
   ]
  },
  {
   "cell_type": "markdown",
   "metadata": {},
   "source": [
    "##### Reshape and show example image"
   ]
  },
  {
   "cell_type": "markdown",
   "metadata": {},
   "source": [
    "Can use the reshape(28,28) to rebuilt the image and show it using following code"
   ]
  },
  {
   "cell_type": "code",
   "execution_count": 7,
   "metadata": {
    "collapsed": false
   },
   "outputs": [
    {
     "data": {
      "image/png": "[encoded data removed]",
      "text/plain": [
       "<matplotlib.figure.Figure at 0xa7ddc50>"
      ]
     },
     "metadata": {},
     "output_type": "display_data"
    },
    {
     "name": "stdout",
     "output_type": "stream",
     "text": [
      "2\n"
     ]
    }
   ],
   "source": [
    "n = 400\n",
    "show_exp1 = train_img[n]\n",
    "show_exp1 = show_exp1.reshape(28,28)\n",
    "fig = plt.figure()\n",
    "plotwindow = fig.add_subplot(111)\n",
    "plt.imshow(show_exp1, cmap='gray')\n",
    "plt.show()\n",
    "print(train_labelArr[n])"
   ]
  },
  {
   "cell_type": "markdown",
   "metadata": {},
   "source": [
    "### Test image Data"
   ]
  },
  {
   "cell_type": "markdown",
   "metadata": {},
   "source": [
    "The data will be store in n dim list named test_img. The length of the test_img is 10000 and for each row the size is 1\\*784. The 784 is 28\\*28 which is the orginal pixel for the input image. Index from 0 to 9999. Show example same as before."
   ]
  },
  {
   "cell_type": "code",
   "execution_count": 8,
   "metadata": {
    "collapsed": true
   },
   "outputs": [],
   "source": [
    "f = open('t10k-images.idx3-ubyte', 'rb')\n",
    "index = 0\n",
    "buf = f.read()\n",
    "f.close()\n",
    "magic, images, rows, columns = struct.unpack_from('>IIII' , buf , index)\n",
    "index += struct.calcsize('>IIII')\n",
    "test_img = []\n",
    "for i in range(images):\n",
    "    image = Image.new('L', (columns, rows))\n",
    "    for x in range(rows):\n",
    "        for y in range(columns):\n",
    "            image.putpixel((y, x), int(struct.unpack_from('>B', buf, index)[0]))\n",
    "            index += struct.calcsize('>B')\n",
    "    test_img.append(np.array(image).reshape(1,784)[0])"
   ]
  },
  {
   "cell_type": "markdown",
   "metadata": {},
   "source": [
    "### Test image Label"
   ]
  },
  {
   "cell_type": "markdown",
   "metadata": {},
   "source": [
    "The labels will be store in the test_labelArr with the length 10000, list. Each row indicate the label for the corresponding image. Index from 0 to 9999."
   ]
  },
  {
   "cell_type": "code",
   "execution_count": 9,
   "metadata": {
    "collapsed": true
   },
   "outputs": [],
   "source": [
    "f = open('t10k-labels.idx1-ubyte', 'rb')\n",
    "index = 0\n",
    "buf = f.read()\n",
    "f.close()\n",
    "magic, labels = struct.unpack_from('>II' , buf , index)\n",
    "index += struct.calcsize('>II')\n",
    "test_labelArr = [0] * labels\n",
    "for x in range(labels):\n",
    "    test_labelArr[x] = int(struct.unpack_from('>B', buf, index)[0])\n",
    "    index += struct.calcsize('>B')"
   ]
  },
  {
   "cell_type": "code",
   "execution_count": 10,
   "metadata": {
    "collapsed": false
   },
   "outputs": [
    {
     "data": {
      "image/png": "[encoded data removed]",
      "text/plain": [
       "<matplotlib.figure.Figure at 0xab1f470>"
      ]
     },
     "metadata": {},
     "output_type": "display_data"
    },
    {
     "name": "stdout",
     "output_type": "stream",
     "text": [
      "3\n"
     ]
    }
   ],
   "source": [
    "n2 = 5000\n",
    "show_exp2 = test_img[n2]\n",
    "show_exp2 = show_exp2.reshape(28,28)\n",
    "fig = plt.figure()\n",
    "plotwindow = fig.add_subplot(111)\n",
    "plt.imshow(show_exp2, cmap='gray')\n",
    "plt.show()\n",
    "print(test_labelArr[n2])"
   ]
  },
  {
   "cell_type": "code",
   "execution_count": null,
   "metadata": {
    "collapsed": true
   },
   "outputs": [],
   "source": []
  },
  {
   "cell_type": "markdown",
   "metadata": {},
   "source": [
    "# Model training"
   ]
  },
  {
   "cell_type": "markdown",
   "metadata": {},
   "source": [
    "### package import"
   ]
  },
  {
   "cell_type": "code",
   "execution_count": 12,
   "metadata": {
    "collapsed": false
   },
   "outputs": [
    {
     "name": "stderr",
     "output_type": "stream",
     "text": [
      "Using TensorFlow backend.\n"
     ]
    }
   ],
   "source": [
    "from keras.datasets import mnist\n",
    "from keras.models import Sequential\n",
    "from keras.layers import Dense\n",
    "from keras.layers import Dropout\n",
    "from keras.layers import Flatten\n",
    "from keras.layers.convolutional import Convolution2D\n",
    "from keras.layers.convolutional import MaxPooling2D\n",
    "from keras.utils import np_utils\n",
    "from keras import backend as K\n",
    "K.set_image_dim_ordering('th')"
   ]
  },
  {
   "cell_type": "code",
   "execution_count": 14,
   "metadata": {
    "collapsed": true
   },
   "outputs": [],
   "source": [
    "# seed for repeat\n",
    "seed = 7\n",
    "np.random.seed(seed)\n",
    "# reshape to be [samples][channels][width][height]\n",
    "X_train = np.array(train_img).reshape(len(train_img), 1, 28, 28).astype('float32')\n",
    "X_test = np.array(test_img).reshape(len(test_img), 1, 28, 28).astype('float32')\n"
   ]
  },
  {
   "cell_type": "code",
   "execution_count": 15,
   "metadata": {
    "collapsed": true
   },
   "outputs": [],
   "source": [
    "# normalize inputs from 0-255 to 0-1\n",
    "X_train = X_train / 255\n",
    "X_test = X_test / 255"
   ]
  },
  {
   "cell_type": "code",
   "execution_count": 16,
   "metadata": {
    "collapsed": true
   },
   "outputs": [],
   "source": [
    "# one hot encode outputs\n",
    "y_train = np_utils.to_categorical(train_labelArr)\n",
    "y_test = np_utils.to_categorical(test_labelArr)\n",
    "num_classes = y_test.shape[1]"
   ]
  },
  {
   "cell_type": "code",
   "execution_count": 17,
   "metadata": {
    "collapsed": true
   },
   "outputs": [],
   "source": [
    "# define a simple CNN model\n",
    "def baseline_model():\n",
    "    # create model\n",
    "    model = Sequential()\n",
    "    model.add(Convolution2D(30, (5, 5),  padding='valid', input_shape=(1, 28, 28), activation='relu'))\n",
    "    model.add(MaxPooling2D(pool_size=(2, 2)))\n",
    "    model.add(Dropout(0.2))\n",
    "    model.add(Flatten())\n",
    "    model.add(Dense(128, activation='relu'))\n",
    "    model.add(Dense(num_classes, activation='softmax'))\n",
    "    # Compile model\n",
    "    model.compile(loss='categorical_crossentropy', optimizer='adam', metrics=['accuracy'])\n",
    "    return model"
   ]
  },
  {
   "cell_type": "code",
   "execution_count": 18,
   "metadata": {
    "collapsed": false
   },
   "outputs": [
    {
     "name": "stdout",
     "output_type": "stream",
     "text": [
      "Train on 60000 samples, validate on 10000 samples\n",
      "Epoch 1/10\n",
      "161s - loss: 0.2454 - acc: 0.9302 - val_loss: 0.0836 - val_acc: 0.9748\n",
      "Epoch 2/10\n",
      "157s - loss: 0.0750 - acc: 0.9781 - val_loss: 0.0478 - val_acc: 0.9844\n",
      "Epoch 3/10\n",
      "154s - loss: 0.0540 - acc: 0.9839 - val_loss: 0.0471 - val_acc: 0.9841\n",
      "Epoch 4/10\n",
      "154s - loss: 0.0420 - acc: 0.9866 - val_loss: 0.0390 - val_acc: 0.9870\n",
      "Epoch 5/10\n",
      "152s - loss: 0.0347 - acc: 0.9894 - val_loss: 0.0358 - val_acc: 0.9875\n",
      "Epoch 6/10\n",
      "152s - loss: 0.0263 - acc: 0.9919 - val_loss: 0.0353 - val_acc: 0.9887\n",
      "Epoch 7/10\n",
      "152s - loss: 0.0238 - acc: 0.9924 - val_loss: 0.0335 - val_acc: 0.9900\n",
      "Epoch 8/10\n",
      "175s - loss: 0.0199 - acc: 0.9936 - val_loss: 0.0306 - val_acc: 0.9902\n",
      "Epoch 9/10\n",
      "160s - loss: 0.0167 - acc: 0.9946 - val_loss: 0.0311 - val_acc: 0.9900\n",
      "Epoch 10/10\n",
      "156s - loss: 0.0134 - acc: 0.9960 - val_loss: 0.0295 - val_acc: 0.9910\n"
     ]
    },
    {
     "data": {
      "text/plain": [
       "<keras.callbacks.History at 0x13d222b0>"
      ]
     },
     "execution_count": 18,
     "metadata": {},
     "output_type": "execute_result"
    }
   ],
   "source": [
    "# build the model\n",
    "model = baseline_model()\n",
    "# Fit the model\n",
    "model.fit(X_train, y_train, validation_data=(X_test, y_test), epochs=10, batch_size=200, verbose=2)"
   ]
  },
  {
   "cell_type": "code",
   "execution_count": 19,
   "metadata": {
    "collapsed": false
   },
   "outputs": [
    {
     "name": "stdout",
     "output_type": "stream",
     "text": [
      "CNN Error: 0.90%\n"
     ]
    }
   ],
   "source": [
    "# Final evaluation of the model\n",
    "scores = model.evaluate(X_test, y_test, verbose=0)\n",
    "print(\"CNN Error: %.2f%%\" % (100-scores[1]*100))"
   ]
  },
  {
   "cell_type": "markdown",
   "metadata": {},
   "source": [
    "### Model Save"
   ]
  },
  {
   "cell_type": "code",
   "execution_count": 20,
   "metadata": {
    "collapsed": true
   },
   "outputs": [],
   "source": [
    "model.save('my_model.h5')  # creates a HDF5 file 'my_model.h5'\n",
    "del model  # deletes the existing model"
   ]
  },
  {
   "cell_type": "markdown",
   "metadata": {},
   "source": [
    "### Model Loads"
   ]
  },
  {
   "cell_type": "code",
   "execution_count": 3,
   "metadata": {
    "collapsed": true
   },
   "outputs": [],
   "source": [
    "from keras.models import load_model\n",
    "# returns a compiled model\n",
    "# identical to the previous one\n",
    "model = load_model('E:/python_code/CNN/my_model.h5')"
   ]
  },
  {
   "cell_type": "markdown",
   "metadata": {},
   "source": [
    "### Analysis"
   ]
  },
  {
   "cell_type": "code",
   "execution_count": 50,
   "metadata": {
    "collapsed": false
   },
   "outputs": [
    {
     "name": "stdout",
     "output_type": "stream",
     "text": [
      "<keras.layers.core.Dense object at 0x0000000014D5A550>\n"
     ]
    }
   ],
   "source": [
    "print(model.layers[5])"
   ]
  },
  {
   "cell_type": "code",
   "execution_count": 24,
   "metadata": {
    "collapsed": false
   },
   "outputs": [
    {
     "data": {
      "text/plain": [
       "array([-0.13487577, -0.06684692,  0.02204445, -0.03728344,  0.00356143,\n",
       "       -0.08376622,  0.00724729, -0.06807438, -0.06307595, -0.15682453,\n",
       "       -0.06084101, -0.00083955, -0.0332096 , -0.01690843, -0.00278416,\n",
       "       -0.00611288, -0.09106699, -0.11052281, -0.03993054, -0.06385043,\n",
       "       -0.11741884, -0.0092161 , -0.00093471, -0.062318  , -0.11378164,\n",
       "       -0.00839758, -0.01548895, -0.00541625, -0.09526169, -0.05757957], dtype=float32)"
      ]
     },
     "execution_count": 24,
     "metadata": {},
     "output_type": "execute_result"
    }
   ],
   "source": [
    "model.get_weights()[1]"
   ]
  },
  {
   "cell_type": "code",
   "execution_count": 11,
   "metadata": {
    "collapsed": false
   },
   "outputs": [
    {
     "data": {
      "text/plain": [
       "4320"
      ]
     },
     "execution_count": 11,
     "metadata": {},
     "output_type": "execute_result"
    }
   ],
   "source": [
    "30*12*12"
   ]
  },
  {
   "cell_type": "code",
   "execution_count": 29,
   "metadata": {
    "collapsed": false
   },
   "outputs": [
    {
     "data": {
      "text/plain": [
       "array([[ 0.00745522, -0.01378735, -0.01580904, ..., -0.00639687,\n",
       "         0.00655776, -0.00265368],\n",
       "       [ 0.04869512, -0.02433876, -0.04098672, ...,  0.0095571 ,\n",
       "         0.0099704 ,  0.01914881],\n",
       "       [ 0.00908333, -0.03028227, -0.03863726, ..., -0.02767626,\n",
       "         0.06637164,  0.00411596],\n",
       "       ..., \n",
       "       [-0.00894228,  0.06156997,  0.02430212, ...,  0.02888414,\n",
       "        -0.0987619 ,  0.05617272],\n",
       "       [-0.01297561,  0.12657604,  0.02110012, ..., -0.02628901,\n",
       "        -0.05141185, -0.03782418],\n",
       "       [ 0.00533535,  0.01731882,  0.01076317, ..., -0.00161557,\n",
       "         0.04156122, -0.01793753]], dtype=float32)"
      ]
     },
     "execution_count": 29,
     "metadata": {},
     "output_type": "execute_result"
    }
   ],
   "source": [
    "model.get_weights()[2]"
   ]
  },
  {
   "cell_type": "code",
   "execution_count": 51,
   "metadata": {
    "collapsed": false
   },
   "outputs": [
    {
     "data": {
      "text/plain": [
       "array([[[[ 0.04600683,  0.07043359,  0.11114135,  0.02260796, -0.07168032,\n",
       "           0.01433991, -0.4471736 , -0.00825066, -0.16305234, -0.20873116,\n",
       "          -0.040181  , -0.34648165,  0.07463448, -0.10657258, -0.09718111,\n",
       "           0.11885654, -0.01017097,  0.01198343, -0.02121506,  0.12686998,\n",
       "           0.01532159,  0.00624978,  0.04057984, -0.00888603,  0.0489433 ,\n",
       "          -0.08820301, -0.02039105, -0.00243238,  0.01898998, -0.05893135]],\n",
       "\n",
       "        [[ 0.05474606,  0.10464036,  0.14320637,  0.12737708, -0.16465375,\n",
       "           0.01435858, -0.37367606, -0.01471729,  0.02135436, -0.14508966,\n",
       "          -0.00577846, -0.22872616, -0.06177927,  0.02803487, -0.26919279,\n",
       "          -0.17842093, -0.1621971 ,  0.01925706,  0.12298234, -0.10630535,\n",
       "          -0.00232219,  0.09411357,  0.0321041 ,  0.06847101,  0.10388418,\n",
       "          -0.10024849, -0.12355251,  0.10492017,  0.01723663, -0.13331063]],\n",
       "\n",
       "        [[ 0.03410382, -0.09162059,  0.06412887,  0.14634211, -0.08262877,\n",
       "           0.11620574, -0.17623065,  0.07724343,  0.16614336, -0.07350115,\n",
       "          -0.11642998, -0.24977852, -0.04291552,  0.05123505, -0.32582605,\n",
       "          -0.257476  ,  0.0729413 , -0.0058572 ,  0.14509855, -0.16837597,\n",
       "          -0.07232154,  0.14586836,  0.16546571,  0.01562992, -0.00189046,\n",
       "          -0.10873865,  0.07629922,  0.20820175,  0.0544338 , -0.10493331]],\n",
       "\n",
       "        [[ 0.0180588 , -0.18466845, -0.30307052,  0.14300074, -0.09731539,\n",
       "          -0.11232787,  0.10083686,  0.07211122, -0.06450209,  0.08912625,\n",
       "          -0.14893183, -0.29691383,  0.07568607,  0.07750133, -0.17644307,\n",
       "           0.05558315,  0.05396752, -0.02753848,  0.13298658, -0.03089366,\n",
       "          -0.03137628,  0.19838242,  0.21753049,  0.02551643,  0.06833192,\n",
       "          -0.02129506,  0.19428237,  0.06101206, -0.02650155,  0.17834345]],\n",
       "\n",
       "        [[ 0.03468037,  0.06190647, -0.26182058, -0.00165768, -0.23575036,\n",
       "          -0.17343283,  0.2554493 ,  0.05667904, -0.15681946,  0.1214599 ,\n",
       "           0.05625083, -0.30923167,  0.05222341,  0.11700666,  0.05411833,\n",
       "           0.24037324,  0.06740487, -0.10886419,  0.20330916,  0.09008418,\n",
       "          -0.0609564 ,  0.22143364,  0.01916873, -0.01765872,  0.00181388,\n",
       "           0.14195159,  0.07483293, -0.03078359,  0.09097144,  0.1177595 ]]],\n",
       "\n",
       "\n",
       "       [[[-0.01477737,  0.02879243,  0.16642879,  0.03394969, -0.12577018,\n",
       "           0.03850839, -0.21919186,  0.07459812, -0.325129  , -0.12657034,\n",
       "          -0.12286101, -0.31577963,  0.10667677,  0.13253681, -0.20914145,\n",
       "           0.09033603,  0.01432224,  0.064425  ,  0.07812405, -0.22939958,\n",
       "          -0.07561193, -0.01002664, -0.20071331,  0.04188963, -0.05076103,\n",
       "           0.1330325 ,  0.01935668,  0.01826635,  0.02253603, -0.11373729]],\n",
       "\n",
       "        [[ 0.0179072 ,  0.17057395,  0.08283962, -0.03311105, -0.04046472,\n",
       "           0.19337581, -0.28361538, -0.00387113,  0.08164783, -0.05267278,\n",
       "          -0.08925696, -0.12669183, -0.0841812 ,  0.15103564, -0.22535059,\n",
       "          -0.05339313, -0.11954843, -0.03825169,  0.07579814, -0.22395435,\n",
       "           0.04674136,  0.06729418,  0.09551115,  0.05801896,  0.05973481,\n",
       "           0.17939506, -0.21833317,  0.11063457,  0.00388443, -0.09639363]],\n",
       "\n",
       "        [[ 0.00712773, -0.06258582, -0.35969624,  0.02179383, -0.20170584,\n",
       "           0.02953168, -0.42127827,  0.03999624,  0.14908971, -0.03219118,\n",
       "           0.02885989, -0.18820724, -0.03520653,  0.1170621 , -0.02479598,\n",
       "          -0.38763633,  0.06305947,  0.09559542,  0.06882423,  0.00606449,\n",
       "          -0.04986667,  0.07025547,  0.03643232, -0.09948072, -0.09826989,\n",
       "           0.21819423, -0.27050629,  0.17078969,  0.04822744, -0.10615283]],\n",
       "\n",
       "        [[ 0.03264732, -0.10756253, -0.24037968,  0.09775093, -0.13549179,\n",
       "          -0.22527474, -0.3353143 , -0.09140353,  0.04062156,  0.12903216,\n",
       "           0.0723785 , -0.08663906,  0.07381689,  0.12733996,  0.11822429,\n",
       "          -0.02713529,  0.0700888 , -0.06483754,  0.01495349,  0.14855018,\n",
       "           0.04473094,  0.09848154,  0.06551106, -0.08410574, -0.08969504,\n",
       "           0.03022876, -0.06076928, -0.01401872, -0.16155374,  0.08885316]],\n",
       "\n",
       "        [[-0.04136949,  0.02483793, -0.1155736 ,  0.18573986, -0.08829559,\n",
       "          -0.11836617, -0.06520591, -0.08553006, -0.06422371,  0.06180913,\n",
       "           0.06764963,  0.04979929,  0.03688097, -0.01430241,  0.16367422,\n",
       "           0.19148575, -0.05740711, -0.22521587, -0.08496157,  0.09944389,\n",
       "           0.02421386,  0.05495529, -0.16431621,  0.101492  ,  0.00952148,\n",
       "           0.14154781,  0.0644889 , -0.29555422,  0.01419445,  0.19569077]]],\n",
       "\n",
       "\n",
       "       [[[ 0.00420891, -0.15482497,  0.10949633, -0.1544546 ,  0.07224382,\n",
       "           0.08738565,  0.22643852, -0.04750168, -0.15957588, -0.06290173,\n",
       "           0.16965804, -0.31115785,  0.0697896 ,  0.08357988, -0.16601555,\n",
       "           0.1582741 ,  0.00513245,  0.05613912, -0.24295104, -0.25484136,\n",
       "          -0.05959304, -0.27198979, -0.37954333,  0.02189224, -0.15890081,\n",
       "           0.06709974,  0.15897563,  0.18701033,  0.04375996, -0.11918586]],\n",
       "\n",
       "        [[-0.03893062,  0.06969807, -0.37992427,  0.03312406, -0.08203671,\n",
       "           0.19520336,  0.05298996, -0.08260868,  0.0910437 , -0.03020456,\n",
       "           0.13539807, -0.10794482,  0.05942103,  0.04087321, -0.17115876,\n",
       "           0.0348547 ,  0.04593133,  0.02625594, -0.26711127, -0.05397926,\n",
       "           0.09759636, -0.29659665, -0.16221599, -0.13197625,  0.07870718,\n",
       "           0.09485689, -0.0972801 ,  0.14153393,  0.00179886, -0.13163529]],\n",
       "\n",
       "        [[-0.02569021,  0.13118272, -0.38557187,  0.04649992,  0.10771374,\n",
       "           0.02622891, -0.1364361 , -0.0858595 ,  0.1067802 ,  0.07159823,\n",
       "           0.04070788, -0.01291483,  0.09742805,  0.09307585,  0.00776787,\n",
       "          -0.4248068 ,  0.08024986,  0.24252996, -0.26297638,  0.15606734,\n",
       "          -0.02130295, -0.33441487,  0.01590048, -0.14183362, -0.02738729,\n",
       "           0.08763343, -0.12412826,  0.0580594 ,  0.04513977, -0.06758512]],\n",
       "\n",
       "        [[ 0.03804319, -0.05004263,  0.07612719,  0.11447962,  0.03838089,\n",
       "          -0.2257686 , -0.31936878,  0.03441034,  0.05109861,  0.00107903,\n",
       "           0.06912913,  0.07085508,  0.07978408, -0.01023929,  0.20680197,\n",
       "          -0.21958958, -0.0265653 , -0.05780673, -0.22530964,  0.16568516,\n",
       "           0.07271399, -0.19007853,  0.06660415, -0.01128029,  0.06252403,\n",
       "           0.07714625, -0.20283756, -0.1403176 , -0.11420853,  0.05230016]],\n",
       "\n",
       "        [[-0.06850357, -0.01978559,  0.03885273,  0.17033257,  0.11612183,\n",
       "          -0.10097194, -0.23967764,  0.09739729, -0.02168276,  0.05936541,\n",
       "           0.03076911,  0.08684   ,  0.09495603, -0.18534553,  0.02339399,\n",
       "           0.22540444, -0.01367356, -0.24828152, -0.19644323, -0.00130966,\n",
       "          -0.05925989, -0.23978384, -0.29201424,  0.08655204,  0.10600073,\n",
       "          -0.12438191, -0.10850497, -0.32536456,  0.0543603 ,  0.15108615]]],\n",
       "\n",
       "\n",
       "       [[[-0.08480406, -0.19388667, -0.44873855, -0.25575551,  0.02951488,\n",
       "           0.00156562,  0.16540758,  0.07915781, -0.04258201, -0.05802882,\n",
       "           0.1203943 , -0.15555198,  0.0775021 , -0.09764495, -0.20707534,\n",
       "           0.11378779,  0.0262754 , -0.06697134, -0.05575789, -0.00497334,\n",
       "           0.07978629,  0.01866792, -0.19531596, -0.04449087, -0.06066253,\n",
       "          -0.1083842 ,  0.14725783,  0.0152545 , -0.12623303, -0.15356772]],\n",
       "\n",
       "        [[ 0.04351426, -0.08340408, -0.39472577, -0.25565192,  0.17032744,\n",
       "           0.23711623,  0.13960797,  0.10501314,  0.06559313, -0.00780981,\n",
       "           0.0130147 ,  0.04482077,  0.06879913, -0.01165646, -0.13486907,\n",
       "           0.06308147,  0.05740368, -0.07925708, -0.177228  ,  0.2260046 ,\n",
       "           0.105329  , -0.05926346, -0.05756197, -0.04860451,  0.08592869,\n",
       "          -0.09572444,  0.18829536,  0.03425562,  0.04688026, -0.06474223]],\n",
       "\n",
       "        [[ 0.01572604,  0.15402578,  0.04995247, -0.1897807 ,  0.11391189,\n",
       "           0.03359894,  0.12262429,  0.03792126, -0.02989486,  0.09860963,\n",
       "          -0.04273617,  0.14190644, -0.10512216, -0.0470955 ,  0.0775321 ,\n",
       "          -0.1414081 ,  0.02372337,  0.17590085, -0.13906442,  0.12982129,\n",
       "           0.06518201, -0.27587444,  0.13505594,  0.14210378,  0.03959902,\n",
       "          -0.1165459 ,  0.03868938, -0.06608142,  0.11488824, -0.05351477]],\n",
       "\n",
       "        [[-0.00368508,  0.111784  ,  0.20907292, -0.15090828,  0.01414245,\n",
       "          -0.21481679, -0.02900675,  0.07458835,  0.00865502,  0.07588583,\n",
       "          -0.083119  ,  0.08279662, -0.01537905, -0.16400386,  0.0869532 ,\n",
       "          -0.31223032,  0.01603303,  0.17553408, -0.10924422, -0.07759698,\n",
       "           0.05300561, -0.26078171, -0.02003157,  0.14878689,  0.0704561 ,\n",
       "          -0.08350284,  0.02716367, -0.21554561,  0.09010316,  0.01544312]],\n",
       "\n",
       "        [[ 0.08177525, -0.02408386,  0.04905792, -0.01429433,  0.12156525,\n",
       "          -0.0434189 , -0.16347444,  0.03326168,  0.09668046, -0.01591817,\n",
       "          -0.01698301,  0.12611535, -0.09415039, -0.14421657,  0.10052329,\n",
       "          -0.18326396, -0.12775296, -0.12266202, -0.02235171, -0.16488624,\n",
       "           0.01734142, -0.05681308, -0.29313231, -0.03580585,  0.03275019,\n",
       "          -0.17555268, -0.08462091, -0.17838742, -0.0291203 ,  0.16123551]]],\n",
       "\n",
       "\n",
       "       [[[ 0.0157013 ,  0.00849272, -0.31364951, -0.06886271,  0.11564366,\n",
       "          -0.01320388,  0.14413509, -0.05477264,  0.09194125,  0.06265796,\n",
       "          -0.1522439 , -0.01784449, -0.15416716, -0.08144381, -0.3132892 ,\n",
       "           0.15413781,  0.12332352, -0.16097143,  0.19965591,  0.13398121,\n",
       "          -0.00623471,  0.04029169, -0.09422988,  0.02591343,  0.07388047,\n",
       "          -0.3003456 , -0.04938449, -0.07364827,  0.02408223, -0.13919662]],\n",
       "\n",
       "        [[ 0.06360099,  0.05576379,  0.07398353, -0.11491671,  0.02299976,\n",
       "           0.17024207,  0.20691577,  0.09988553,  0.00910542,  0.10671633,\n",
       "          -0.08002209,  0.01880402, -0.12484866, -0.21962114, -0.13002089,\n",
       "          -0.12633522, -0.01639716, -0.11912616,  0.19467306,  0.05155835,\n",
       "          -0.13782109,  0.13274778,  0.20973647,  0.09810565,  0.01176222,\n",
       "          -0.18490797,  0.0822663 , -0.14903611, -0.08371459, -0.24287182]],\n",
       "\n",
       "        [[ 0.02925488, -0.00409726,  0.07235331, -0.1685847 ,  0.07194868,\n",
       "           0.11837967,  0.22235925,  0.01348136, -0.04839389, -0.02149831,\n",
       "           0.03844987,  0.16049275, -0.04260939, -0.27804232,  0.1182733 ,\n",
       "          -0.06632121, -0.06411426,  0.01679926,  0.17218092,  0.00317278,\n",
       "          -0.01215558,  0.17919919,  0.12350658,  0.13362898,  0.02901875,\n",
       "          -0.22619823,  0.08917375, -0.25314292,  0.07923241, -0.1621958 ]],\n",
       "\n",
       "        [[ 0.01543946, -0.07486378,  0.10109351, -0.26590028,  0.06878816,\n",
       "          -0.14786446,  0.14014399,  0.01783284, -0.082692  ,  0.04660792,\n",
       "           0.0583066 ,  0.11774871, -0.12795347, -0.17476539,  0.03080406,\n",
       "          -0.24247855,  0.01419532,  0.18880819,  0.17233004, -0.26000679,\n",
       "           0.0213347 ,  0.13982159, -0.12342776, -0.11700951, -0.06580201,\n",
       "          -0.0214828 ,  0.08862035, -0.18300985, -0.02805999,  0.09820148]],\n",
       "\n",
       "        [[ 0.05917161,  0.07452919,  0.05902683, -0.19962646, -0.06610221,\n",
       "           0.00441224, -0.00091425, -0.24375224,  0.11716904,  0.03755343,\n",
       "           0.06619187,  0.13174607, -0.14474484,  0.00332842,  0.0671492 ,\n",
       "          -0.21984738, -0.08504509,  0.13672274,  0.10332955, -0.20638983,\n",
       "           0.10826584,  0.00342996, -0.24924384, -0.25874215, -0.08029579,\n",
       "          -0.0744996 ,  0.01646752, -0.21164085,  0.05898939,  0.13569464]]]], dtype=float32)"
      ]
     },
     "execution_count": 51,
     "metadata": {},
     "output_type": "execute_result"
    }
   ],
   "source": [
    "model.get_weights()[0]"
   ]
  },
  {
   "cell_type": "code",
   "execution_count": 53,
   "metadata": {
    "collapsed": false
   },
   "outputs": [
    {
     "data": {
      "text/plain": [
       "[{'class_name': 'Conv2D',\n",
       "  'config': {'activation': 'relu',\n",
       "   'activity_regularizer': None,\n",
       "   'batch_input_shape': (None, 1, 28, 28),\n",
       "   'bias_constraint': None,\n",
       "   'bias_initializer': {'class_name': 'Zeros', 'config': {}},\n",
       "   'bias_regularizer': None,\n",
       "   'data_format': 'channels_first',\n",
       "   'dilation_rate': (1, 1),\n",
       "   'dtype': 'float32',\n",
       "   'filters': 30,\n",
       "   'kernel_constraint': None,\n",
       "   'kernel_initializer': {'class_name': 'VarianceScaling',\n",
       "    'config': {'distribution': 'uniform',\n",
       "     'mode': 'fan_avg',\n",
       "     'scale': 1.0,\n",
       "     'seed': None}},\n",
       "   'kernel_regularizer': None,\n",
       "   'kernel_size': (5, 5),\n",
       "   'name': 'conv2d_1',\n",
       "   'padding': 'valid',\n",
       "   'strides': (1, 1),\n",
       "   'trainable': True,\n",
       "   'use_bias': True}},\n",
       " {'class_name': 'MaxPooling2D',\n",
       "  'config': {'data_format': 'channels_first',\n",
       "   'name': 'max_pooling2d_1',\n",
       "   'padding': 'valid',\n",
       "   'pool_size': (2, 2),\n",
       "   'strides': (2, 2),\n",
       "   'trainable': True}},\n",
       " {'class_name': 'Dropout',\n",
       "  'config': {'name': 'dropout_1', 'rate': 0.2, 'trainable': True}},\n",
       " {'class_name': 'Flatten', 'config': {'name': 'flatten_1', 'trainable': True}},\n",
       " {'class_name': 'Dense',\n",
       "  'config': {'activation': 'relu',\n",
       "   'activity_regularizer': None,\n",
       "   'bias_constraint': None,\n",
       "   'bias_initializer': {'class_name': 'Zeros', 'config': {}},\n",
       "   'bias_regularizer': None,\n",
       "   'kernel_constraint': None,\n",
       "   'kernel_initializer': {'class_name': 'VarianceScaling',\n",
       "    'config': {'distribution': 'uniform',\n",
       "     'mode': 'fan_avg',\n",
       "     'scale': 1.0,\n",
       "     'seed': None}},\n",
       "   'kernel_regularizer': None,\n",
       "   'name': 'dense_1',\n",
       "   'trainable': True,\n",
       "   'units': 128,\n",
       "   'use_bias': True}},\n",
       " {'class_name': 'Dense',\n",
       "  'config': {'activation': 'softmax',\n",
       "   'activity_regularizer': None,\n",
       "   'bias_constraint': None,\n",
       "   'bias_initializer': {'class_name': 'Zeros', 'config': {}},\n",
       "   'bias_regularizer': None,\n",
       "   'kernel_constraint': None,\n",
       "   'kernel_initializer': {'class_name': 'VarianceScaling',\n",
       "    'config': {'distribution': 'uniform',\n",
       "     'mode': 'fan_avg',\n",
       "     'scale': 1.0,\n",
       "     'seed': None}},\n",
       "   'kernel_regularizer': None,\n",
       "   'name': 'dense_2',\n",
       "   'trainable': True,\n",
       "   'units': 10,\n",
       "   'use_bias': True}}]"
      ]
     },
     "execution_count": 53,
     "metadata": {},
     "output_type": "execute_result"
    }
   ],
   "source": [
    "model.get_config()"
   ]
  },
  {
   "cell_type": "markdown",
   "metadata": {},
   "source": [
    "### Visualization"
   ]
  },
  {
   "cell_type": "code",
   "execution_count": 68,
   "metadata": {
    "collapsed": true
   },
   "outputs": [],
   "source": [
    "from keras import backend as K"
   ]
  },
  {
   "cell_type": "code",
   "execution_count": 69,
   "metadata": {
    "collapsed": true
   },
   "outputs": [],
   "source": [
    "inp = model.input                                           # input placeholder\n",
    "outputs = [layer.output for layer in model.layers]          # all layer outputs\n",
    "functor = K.function([inp]+ [K.learning_phase()], outputs ) # evaluation function"
   ]
  },
  {
   "cell_type": "code",
   "execution_count": 75,
   "metadata": {
    "collapsed": true
   },
   "outputs": [],
   "source": [
    "input_shape=(1, 28, 28)"
   ]
  },
  {
   "cell_type": "code",
   "execution_count": 174,
   "metadata": {
    "collapsed": false
   },
   "outputs": [
    {
     "data": {
      "text/plain": [
       "[<tf.Tensor 'conv2d_1_1/Relu:0' shape=(?, 30, 24, 24) dtype=float32>,\n",
       " <tf.Tensor 'max_pooling2d_1_1/transpose_1:0' shape=(?, 30, 12, 12) dtype=float32>,\n",
       " <tf.Tensor 'dropout_1_1/cond/Merge:0' shape=(?, 30, 12, 12) dtype=float32>,\n",
       " <tf.Tensor 'flatten_1_1/Reshape:0' shape=(?, ?) dtype=float32>,\n",
       " <tf.Tensor 'dense_1_1/Relu:0' shape=(?, 128) dtype=float32>,\n",
       " <tf.Tensor 'dense_2_1/Softmax:0' shape=(?, 10) dtype=float32>]"
      ]
     },
     "execution_count": 174,
     "metadata": {},
     "output_type": "execute_result"
    }
   ],
   "source": [
    "outputs"
   ]
  },
  {
   "cell_type": "code",
   "execution_count": 140,
   "metadata": {
    "collapsed": false
   },
   "outputs": [
    {
     "name": "stdout",
     "output_type": "stream",
     "text": [
      "[array([[[[  0.00000000e+00,   2.63511240e-02,   0.00000000e+00, ...,\n",
      "            6.05586171e-03,   8.16580802e-02,   8.69500637e-02],\n",
      "         [  5.15439361e-02,   9.57644135e-02,   0.00000000e+00, ...,\n",
      "            1.10063344e-01,   8.93089622e-02,   0.00000000e+00],\n",
      "         [  9.75390673e-02,   0.00000000e+00,   8.90122354e-03, ...,\n",
      "            7.93808699e-03,   1.88798755e-02,   1.16827965e-01],\n",
      "         ..., \n",
      "         [  7.10770339e-02,   0.00000000e+00,   4.85478044e-02, ...,\n",
      "            0.00000000e+00,   9.21234339e-02,   2.37692595e-02],\n",
      "         [  0.00000000e+00,   2.75219381e-02,   0.00000000e+00, ...,\n",
      "            0.00000000e+00,   2.23363191e-02,   8.17365348e-02],\n",
      "         [  1.38535053e-02,   9.07247961e-02,   1.58690959e-01, ...,\n",
      "            1.08972788e-01,   0.00000000e+00,   1.17802083e-01]],\n",
      "\n",
      "        [[  0.00000000e+00,   4.53218818e-04,   0.00000000e+00, ...,\n",
      "            0.00000000e+00,   1.32073939e-01,   0.00000000e+00],\n",
      "         [  0.00000000e+00,   1.54679269e-02,   0.00000000e+00, ...,\n",
      "            0.00000000e+00,   0.00000000e+00,   0.00000000e+00],\n",
      "         [  0.00000000e+00,   0.00000000e+00,   6.64951652e-02, ...,\n",
      "            7.00273067e-02,   0.00000000e+00,   0.00000000e+00],\n",
      "         ..., \n",
      "         [  0.00000000e+00,   2.31063560e-01,   0.00000000e+00, ...,\n",
      "            0.00000000e+00,   1.14658743e-01,   0.00000000e+00],\n",
      "         [  0.00000000e+00,   1.63133338e-01,   1.77455172e-02, ...,\n",
      "            1.52595893e-01,   5.90894520e-02,   0.00000000e+00],\n",
      "         [  0.00000000e+00,   0.00000000e+00,   1.90614983e-01, ...,\n",
      "            0.00000000e+00,   1.00428641e-01,   0.00000000e+00]],\n",
      "\n",
      "        [[  0.00000000e+00,   0.00000000e+00,   0.00000000e+00, ...,\n",
      "            0.00000000e+00,   0.00000000e+00,   0.00000000e+00],\n",
      "         [  0.00000000e+00,   0.00000000e+00,   0.00000000e+00, ...,\n",
      "            0.00000000e+00,   0.00000000e+00,   0.00000000e+00],\n",
      "         [  0.00000000e+00,   0.00000000e+00,   0.00000000e+00, ...,\n",
      "            0.00000000e+00,   0.00000000e+00,   0.00000000e+00],\n",
      "         ..., \n",
      "         [  0.00000000e+00,   0.00000000e+00,   0.00000000e+00, ...,\n",
      "            0.00000000e+00,   0.00000000e+00,   0.00000000e+00],\n",
      "         [  0.00000000e+00,   0.00000000e+00,   0.00000000e+00, ...,\n",
      "            0.00000000e+00,   0.00000000e+00,   0.00000000e+00],\n",
      "         [  0.00000000e+00,   0.00000000e+00,   0.00000000e+00, ...,\n",
      "            0.00000000e+00,   0.00000000e+00,   0.00000000e+00]],\n",
      "\n",
      "        ..., \n",
      "        [[  0.00000000e+00,   0.00000000e+00,   0.00000000e+00, ...,\n",
      "            0.00000000e+00,   0.00000000e+00,   0.00000000e+00],\n",
      "         [  0.00000000e+00,   0.00000000e+00,   0.00000000e+00, ...,\n",
      "            0.00000000e+00,   0.00000000e+00,   0.00000000e+00],\n",
      "         [  0.00000000e+00,   0.00000000e+00,   0.00000000e+00, ...,\n",
      "            0.00000000e+00,   0.00000000e+00,   0.00000000e+00],\n",
      "         ..., \n",
      "         [  0.00000000e+00,   0.00000000e+00,   0.00000000e+00, ...,\n",
      "            0.00000000e+00,   0.00000000e+00,   0.00000000e+00],\n",
      "         [  0.00000000e+00,   0.00000000e+00,   0.00000000e+00, ...,\n",
      "            0.00000000e+00,   0.00000000e+00,   0.00000000e+00],\n",
      "         [  0.00000000e+00,   0.00000000e+00,   0.00000000e+00, ...,\n",
      "            0.00000000e+00,   0.00000000e+00,   0.00000000e+00]],\n",
      "\n",
      "        [[  0.00000000e+00,   8.49096924e-02,   0.00000000e+00, ...,\n",
      "            1.55135632e-01,   0.00000000e+00,   0.00000000e+00],\n",
      "         [  0.00000000e+00,   1.06458649e-01,   1.29937232e-01, ...,\n",
      "            1.35710120e-01,   0.00000000e+00,   8.07266831e-02],\n",
      "         [  4.44556922e-02,   2.21372843e-02,   1.45738855e-01, ...,\n",
      "            9.49041098e-02,   1.72237337e-01,   5.05374670e-02],\n",
      "         ..., \n",
      "         [  1.67656317e-02,   1.81513876e-01,   2.78731361e-02, ...,\n",
      "            2.12088019e-01,   9.63908583e-02,   6.03212714e-02],\n",
      "         [  0.00000000e+00,   6.94538802e-02,   0.00000000e+00, ...,\n",
      "            5.32028973e-02,   1.92094594e-02,   0.00000000e+00],\n",
      "         [  0.00000000e+00,   0.00000000e+00,   2.15944588e-01, ...,\n",
      "            0.00000000e+00,   1.39304996e-01,   4.28557396e-05]],\n",
      "\n",
      "        [[  0.00000000e+00,   0.00000000e+00,   0.00000000e+00, ...,\n",
      "            0.00000000e+00,   0.00000000e+00,   0.00000000e+00],\n",
      "         [  0.00000000e+00,   3.68408449e-02,   0.00000000e+00, ...,\n",
      "            0.00000000e+00,   0.00000000e+00,   0.00000000e+00],\n",
      "         [  8.43436718e-02,   1.25653639e-01,   0.00000000e+00, ...,\n",
      "            0.00000000e+00,   0.00000000e+00,   0.00000000e+00],\n",
      "         ..., \n",
      "         [  0.00000000e+00,   0.00000000e+00,   0.00000000e+00, ...,\n",
      "            0.00000000e+00,   0.00000000e+00,   0.00000000e+00],\n",
      "         [  0.00000000e+00,   0.00000000e+00,   0.00000000e+00, ...,\n",
      "            0.00000000e+00,   0.00000000e+00,   0.00000000e+00],\n",
      "         [  0.00000000e+00,   0.00000000e+00,   0.00000000e+00, ...,\n",
      "            0.00000000e+00,   0.00000000e+00,   0.00000000e+00]]]], dtype=float32), array([[[[ 0.09576441,  0.12589833,  0.05771972, ...,  0.13010645,\n",
      "           0.13228354,  0.08930896],\n",
      "         [ 0.09753907,  0.16963428,  0.06557181, ...,  0.00712973,\n",
      "           0.07898122,  0.11682796],\n",
      "         [ 0.02089615,  0.17885199,  0.10602921, ...,  0.09884541,\n",
      "           0.08692166,  0.14470261],\n",
      "         ..., \n",
      "         [ 0.08267421,  0.00431068,  0.08092666, ...,  0.15656507,\n",
      "           0.0851384 ,  0.08389238],\n",
      "         [ 0.07757585,  0.08368054,  0.11823374, ...,  0.14894372,\n",
      "           0.09133376,  0.09212343],\n",
      "         [ 0.0907248 ,  0.15869096,  0.11039922, ...,  0.1334281 ,\n",
      "           0.11432576,  0.11780208]],\n",
      "\n",
      "        [[ 0.01546793,  0.        ,  0.14141698, ...,  0.13047068,\n",
      "           0.08945198,  0.13207394],\n",
      "         [ 0.        ,  0.23041697,  0.        , ...,  0.        ,\n",
      "           0.07002731,  0.15086202],\n",
      "         [ 0.        ,  0.07575834,  0.29705328, ...,  0.30881613,\n",
      "           0.        ,  0.17323077],\n",
      "         ..., \n",
      "         [ 0.10211836,  0.        ,  0.03677033, ...,  0.04888412,\n",
      "           0.30079252,  0.09422253],\n",
      "         [ 0.23106356,  0.14084768,  0.04697603, ...,  0.04531394,\n",
      "           0.        ,  0.11465874],\n",
      "         [ 0.16313334,  0.19061498,  0.1668058 , ...,  0.16395886,\n",
      "           0.15259589,  0.10042864]],\n",
      "\n",
      "        [[ 0.        ,  0.        ,  0.        , ...,  0.        ,\n",
      "           0.        ,  0.        ],\n",
      "         [ 0.        ,  0.        ,  0.        , ...,  0.        ,\n",
      "           0.        ,  0.        ],\n",
      "         [ 0.        ,  0.        ,  0.        , ...,  0.        ,\n",
      "           0.        ,  0.        ],\n",
      "         ..., \n",
      "         [ 0.        ,  0.        ,  0.        , ...,  0.        ,\n",
      "           0.        ,  0.        ],\n",
      "         [ 0.        ,  0.        ,  0.        , ...,  0.        ,\n",
      "           0.        ,  0.        ],\n",
      "         [ 0.        ,  0.        ,  0.        , ...,  0.        ,\n",
      "           0.        ,  0.        ]],\n",
      "\n",
      "        ..., \n",
      "        [[ 0.        ,  0.        ,  0.        , ...,  0.        ,\n",
      "           0.        ,  0.        ],\n",
      "         [ 0.        ,  0.        ,  0.        , ...,  0.        ,\n",
      "           0.        ,  0.        ],\n",
      "         [ 0.        ,  0.        ,  0.        , ...,  0.        ,\n",
      "           0.        ,  0.        ],\n",
      "         ..., \n",
      "         [ 0.        ,  0.        ,  0.        , ...,  0.        ,\n",
      "           0.03782273,  0.        ],\n",
      "         [ 0.        ,  0.        ,  0.        , ...,  0.        ,\n",
      "           0.        ,  0.        ],\n",
      "         [ 0.        ,  0.        ,  0.        , ...,  0.        ,\n",
      "           0.        ,  0.        ]],\n",
      "\n",
      "        [[ 0.10645865,  0.12993723,  0.09690455, ...,  0.22839862,\n",
      "           0.15513563,  0.08072668],\n",
      "         [ 0.04445569,  0.14573886,  0.04593727, ...,  0.07535955,\n",
      "           0.09490411,  0.17223734],\n",
      "         [ 0.19100007,  0.10871756,  0.11004919, ...,  0.26094261,\n",
      "           0.05278441,  0.15801713],\n",
      "         ..., \n",
      "         [ 0.13710347,  0.02983736,  0.12056439, ...,  0.10677987,\n",
      "           0.32558548,  0.04876915],\n",
      "         [ 0.18151388,  0.08090326,  0.09680398, ...,  0.14678894,\n",
      "           0.21208802,  0.09639086],\n",
      "         [ 0.06945388,  0.21594459,  0.22499463, ...,  0.19831178,\n",
      "           0.05446912,  0.139305  ]],\n",
      "\n",
      "        [[ 0.03684084,  0.        ,  0.        , ...,  0.        ,\n",
      "           0.        ,  0.        ],\n",
      "         [ 0.12565364,  0.        ,  0.        , ...,  0.        ,\n",
      "           0.        ,  0.        ],\n",
      "         [ 0.        ,  0.        ,  0.        , ...,  0.        ,\n",
      "           0.        ,  0.        ],\n",
      "         ..., \n",
      "         [ 0.        ,  0.        ,  0.        , ...,  0.        ,\n",
      "           0.        ,  0.        ],\n",
      "         [ 0.        ,  0.        ,  0.        , ...,  0.        ,\n",
      "           0.        ,  0.        ],\n",
      "         [ 0.        ,  0.        ,  0.        , ...,  0.        ,\n",
      "           0.        ,  0.        ]]]], dtype=float32), array([[[[ 0.11970551,  0.        ,  0.        , ...,  0.        ,\n",
      "           0.16535442,  0.1116362 ],\n",
      "         [ 0.12192383,  0.        ,  0.        , ...,  0.        ,\n",
      "           0.09872653,  0.14603496],\n",
      "         [ 0.02612019,  0.22356498,  0.13253652, ...,  0.        ,\n",
      "           0.10865208,  0.18087827],\n",
      "         ..., \n",
      "         [ 0.10334276,  0.00538835,  0.10115832, ...,  0.19570634,\n",
      "           0.        ,  0.        ],\n",
      "         [ 0.09696981,  0.10460068,  0.        , ...,  0.        ,\n",
      "           0.1141672 ,  0.11515429],\n",
      "         [ 0.113406  ,  0.19836369,  0.13799901, ...,  0.16678512,\n",
      "           0.1429072 ,  0.        ]],\n",
      "\n",
      "        [[ 0.01933491,  0.        ,  0.17677122, ...,  0.16308835,\n",
      "           0.11181498,  0.16509242],\n",
      "         [ 0.        ,  0.28802121,  0.        , ...,  0.        ,\n",
      "           0.        ,  0.18857753],\n",
      "         [ 0.        ,  0.09469792,  0.37131658, ...,  0.        ,\n",
      "           0.        ,  0.        ],\n",
      "         ..., \n",
      "         [ 0.12764795,  0.        ,  0.04596291, ...,  0.06110514,\n",
      "           0.37599063,  0.11777816],\n",
      "         [ 0.28882945,  0.1760596 ,  0.05872004, ...,  0.05664242,\n",
      "           0.        ,  0.14332342],\n",
      "         [ 0.20391667,  0.        ,  0.20850725, ...,  0.20494857,\n",
      "           0.19074486,  0.1255358 ]],\n",
      "\n",
      "        [[ 0.        ,  0.        ,  0.        , ...,  0.        ,\n",
      "           0.        ,  0.        ],\n",
      "         [ 0.        ,  0.        ,  0.        , ...,  0.        ,\n",
      "           0.        ,  0.        ],\n",
      "         [ 0.        ,  0.        ,  0.        , ...,  0.        ,\n",
      "           0.        ,  0.        ],\n",
      "         ..., \n",
      "         [ 0.        ,  0.        ,  0.        , ...,  0.        ,\n",
      "           0.        ,  0.        ],\n",
      "         [ 0.        ,  0.        ,  0.        , ...,  0.        ,\n",
      "           0.        ,  0.        ],\n",
      "         [ 0.        ,  0.        ,  0.        , ...,  0.        ,\n",
      "           0.        ,  0.        ]],\n",
      "\n",
      "        ..., \n",
      "        [[ 0.        ,  0.        ,  0.        , ...,  0.        ,\n",
      "           0.        ,  0.        ],\n",
      "         [ 0.        ,  0.        ,  0.        , ...,  0.        ,\n",
      "           0.        ,  0.        ],\n",
      "         [ 0.        ,  0.        ,  0.        , ...,  0.        ,\n",
      "           0.        ,  0.        ],\n",
      "         ..., \n",
      "         [ 0.        ,  0.        ,  0.        , ...,  0.        ,\n",
      "           0.04727841,  0.        ],\n",
      "         [ 0.        ,  0.        ,  0.        , ...,  0.        ,\n",
      "           0.        ,  0.        ],\n",
      "         [ 0.        ,  0.        ,  0.        , ...,  0.        ,\n",
      "           0.        ,  0.        ]],\n",
      "\n",
      "        [[ 0.13307332,  0.        ,  0.12113068, ...,  0.28549826,\n",
      "           0.        ,  0.10090835],\n",
      "         [ 0.        ,  0.18217357,  0.05742159, ...,  0.        ,\n",
      "           0.        ,  0.        ],\n",
      "         [ 0.23875009,  0.13589695,  0.13756149, ...,  0.32617825,\n",
      "           0.06598052,  0.1975214 ],\n",
      "         ..., \n",
      "         [ 0.17137933,  0.03729669,  0.        , ...,  0.13347484,\n",
      "           0.40698186,  0.        ],\n",
      "         [ 0.22689234,  0.10112908,  0.12100497, ...,  0.18348618,\n",
      "           0.26511002,  0.12048857],\n",
      "         [ 0.08681735,  0.26993072,  0.28124329, ...,  0.24788971,\n",
      "           0.0680864 ,  0.17413124]],\n",
      "\n",
      "        [[ 0.        ,  0.        ,  0.        , ...,  0.        ,\n",
      "           0.        ,  0.        ],\n",
      "         [ 0.        ,  0.        ,  0.        , ...,  0.        ,\n",
      "           0.        ,  0.        ],\n",
      "         [ 0.        ,  0.        ,  0.        , ...,  0.        ,\n",
      "           0.        ,  0.        ],\n",
      "         ..., \n",
      "         [ 0.        ,  0.        ,  0.        , ...,  0.        ,\n",
      "           0.        ,  0.        ],\n",
      "         [ 0.        ,  0.        ,  0.        , ...,  0.        ,\n",
      "           0.        ,  0.        ],\n",
      "         [ 0.        ,  0.        ,  0.        , ...,  0.        ,\n",
      "           0.        ,  0.        ]]]], dtype=float32), array([[ 0.11970551,  0.        ,  0.        , ...,  0.        ,\n",
      "         0.        ,  0.        ]], dtype=float32), array([[ 1.72147727,  0.47824448,  0.        ,  0.18492533,  1.38887596,\n",
      "         0.60487449,  0.        ,  0.78514791,  1.45152533,  0.05807276,\n",
      "         0.        ,  0.63722801,  1.47940302,  0.        ,  0.75082201,\n",
      "         0.53067416,  0.        ,  0.        ,  1.60145831,  0.75901783,\n",
      "         0.        ,  0.24906649,  0.97579664,  0.        ,  0.        ,\n",
      "         1.49051058,  1.0286293 ,  2.00354028,  0.        ,  0.27554294,\n",
      "         1.00686252,  0.83168328,  1.98643303,  0.        ,  0.        ,\n",
      "         1.09994614,  3.18763494,  0.99720323,  0.        ,  0.67889553,\n",
      "         0.18515795,  0.        ,  0.        ,  0.53229159,  0.58958066,\n",
      "         3.07229996,  0.        ,  0.        ,  0.        ,  0.78335845,\n",
      "         0.        ,  1.07549739,  0.77267474,  1.77279675,  1.17913449,\n",
      "         0.        ,  0.88125342,  0.19952658,  1.038589  ,  0.        ,\n",
      "         0.31035686,  1.26370764,  1.82522166,  0.        ,  0.        ,\n",
      "         0.        ,  0.        ,  0.        ,  0.26632947,  0.        ,\n",
      "         0.9458921 ,  0.96114463,  0.        ,  0.        ,  1.78141117,\n",
      "         0.        ,  0.        ,  0.        ,  2.18363833,  0.67109716,\n",
      "         0.        ,  1.44114792,  0.        ,  1.13630509,  0.32978201,\n",
      "         2.96520305,  0.        ,  1.58518767,  0.4656204 ,  0.        ,\n",
      "         0.43194276,  0.        ,  0.54335648,  2.54188013,  0.        ,\n",
      "         0.        ,  0.20973539,  0.        ,  0.        ,  2.40710688,\n",
      "         0.        ,  0.42036232,  0.        ,  0.        ,  0.12380369,\n",
      "         0.        ,  0.        ,  0.        ,  0.00492631,  0.        ,\n",
      "         1.25352573,  0.        ,  1.28777909,  0.        ,  1.00622022,\n",
      "         0.        ,  1.33302653,  0.        ,  0.        ,  0.66214389,\n",
      "         0.57713085,  1.09618032,  0.        ,  1.43196702,  0.        ,\n",
      "         0.        ,  0.8485952 ,  0.08199555]], dtype=float32), array([[  4.93420928e-04,   3.64936495e-05,   7.75381327e-02,\n",
      "          1.99136976e-03,   1.03676379e-04,   1.43760967e-03,\n",
      "          4.51890548e-04,   1.21519060e-05,   9.17387426e-01,\n",
      "          5.47791249e-04]], dtype=float32)]\n"
     ]
    }
   ],
   "source": [
    "# Testing\n",
    "n = 400\n",
    "exp1 = train_img[n]\n",
    "exp1 = show_exp1.reshape(1,1,28,28)/255\n",
    "layer_outs = functor([exp1, 1.])\n",
    "print(layer_outs)"
   ]
  },
  {
   "cell_type": "code",
   "execution_count": 175,
   "metadata": {
    "collapsed": false
   },
   "outputs": [
    {
     "data": {
      "text/plain": [
       "(1, 4320)"
      ]
     },
     "execution_count": 175,
     "metadata": {},
     "output_type": "execute_result"
    }
   ],
   "source": [
    "layer_outs[3].shape"
   ]
  },
  {
   "cell_type": "code",
   "execution_count": 176,
   "metadata": {
    "collapsed": false
   },
   "outputs": [
    {
     "data": {
      "text/plain": [
       "4320"
      ]
     },
     "execution_count": 176,
     "metadata": {},
     "output_type": "execute_result"
    }
   ],
   "source": [
    "30*12*12"
   ]
  },
  {
   "cell_type": "code",
   "execution_count": 59,
   "metadata": {
    "collapsed": false
   },
   "outputs": [
    {
     "data": {
      "text/plain": [
       "array([[-76.58812714, -12.59304619, -18.78030777,   6.14096785,\n",
       "        -35.49513626],\n",
       "       [ 16.21825409,  14.21976662,  18.86579895, -29.30376244,\n",
       "          5.86493826],\n",
       "       [ 43.41172791,  52.76351929,  25.47080994,   2.32188272,\n",
       "         27.21266365],\n",
       "       [-20.40563202,   4.79502583, -31.83640862, -56.00339127,\n",
       "        -33.15532684],\n",
       "       [-32.2154808 ,  -4.1812768 , -30.37717247,  49.64163208,\n",
       "         13.14737892]], dtype=float32)"
      ]
     },
     "execution_count": 59,
     "metadata": {},
     "output_type": "execute_result"
    }
   ],
   "source": [
    "show_exp1"
   ]
  },
  {
   "cell_type": "code",
   "execution_count": 101,
   "metadata": {
    "collapsed": false
   },
   "outputs": [
    {
     "data": {
      "image/png": "[encoded data removed]",
      "text/plain": [
       "<matplotlib.figure.Figure at 0x7f85a20>"
      ]
     },
     "metadata": {},
     "output_type": "display_data"
    }
   ],
   "source": [
    "show_exp1 = model.get_weights()[0].reshape(30,1,5,5)[3][0] * 255\n",
    "fig = plt.figure()\n",
    "plotwindow = fig.add_subplot(111)\n",
    "plt.imshow(show_exp1, cmap='gray')\n",
    "plt.show()\n"
   ]
  },
  {
   "cell_type": "code",
   "execution_count": 50,
   "metadata": {
    "collapsed": false
   },
   "outputs": [
    {
     "data": {
      "text/plain": [
       "(5, 5)"
      ]
     },
     "execution_count": 50,
     "metadata": {},
     "output_type": "execute_result"
    }
   ],
   "source": [
    "model.get_weights()[0].reshape(30,1,5,5)[0][0].shape"
   ]
  },
  {
   "cell_type": "code",
   "execution_count": 77,
   "metadata": {
    "collapsed": false
   },
   "outputs": [
    {
     "data": {
      "text/plain": [
       "array([-0.00711221,  0.0509821 ,  0.02295083, -0.02891735,  0.00895527,\n",
       "        0.01192364, -0.03893128,  0.00521013, -0.02529477,  0.00225516], dtype=float32)"
      ]
     },
     "execution_count": 77,
     "metadata": {},
     "output_type": "execute_result"
    }
   ],
   "source": [
    "model.get_weights()[5]"
   ]
  },
  {
   "cell_type": "code",
   "execution_count": null,
   "metadata": {
    "collapsed": true
   },
   "outputs": [],
   "source": []
  },
  {
   "cell_type": "code",
   "execution_count": 90,
   "metadata": {
    "collapsed": true
   },
   "outputs": [],
   "source": [
    "test_arr = [1,9,1,9,2,8,2,8,3,7,3,7,4,6,4,6]"
   ]
  },
  {
   "cell_type": "code",
   "execution_count": 91,
   "metadata": {
    "collapsed": false
   },
   "outputs": [
    {
     "data": {
      "text/plain": [
       "[1, 9, 1, 9, 2, 8, 2, 8, 3, 7, 3, 7, 4, 6, 4, 6]"
      ]
     },
     "execution_count": 91,
     "metadata": {},
     "output_type": "execute_result"
    }
   ],
   "source": [
    "test_arr"
   ]
  },
  {
   "cell_type": "code",
   "execution_count": 92,
   "metadata": {
    "collapsed": false
   },
   "outputs": [
    {
     "data": {
      "text/plain": [
       "(4, 1, 2, 2)"
      ]
     },
     "execution_count": 92,
     "metadata": {},
     "output_type": "execute_result"
    }
   ],
   "source": [
    "np.array(test_arr).reshape(4,1,2,2).shape"
   ]
  },
  {
   "cell_type": "code",
   "execution_count": 93,
   "metadata": {
    "collapsed": false
   },
   "outputs": [
    {
     "data": {
      "text/plain": [
       "array([[[[1, 9],\n",
       "         [1, 9]]],\n",
       "\n",
       "\n",
       "       [[[2, 8],\n",
       "         [2, 8]]],\n",
       "\n",
       "\n",
       "       [[[3, 7],\n",
       "         [3, 7]]],\n",
       "\n",
       "\n",
       "       [[[4, 6],\n",
       "         [4, 6]]]])"
      ]
     },
     "execution_count": 93,
     "metadata": {},
     "output_type": "execute_result"
    }
   ],
   "source": [
    "np.array(test_arr).reshape(4,1,2,2)"
   ]
  },
  {
   "cell_type": "code",
   "execution_count": 94,
   "metadata": {
    "collapsed": false
   },
   "outputs": [
    {
     "data": {
      "text/plain": [
       "array([[[[1, 9, 1, 9]],\n",
       "\n",
       "        [[2, 8, 2, 8]]],\n",
       "\n",
       "\n",
       "       [[[3, 7, 3, 7]],\n",
       "\n",
       "        [[4, 6, 4, 6]]]])"
      ]
     },
     "execution_count": 94,
     "metadata": {},
     "output_type": "execute_result"
    }
   ],
   "source": [
    "np.array(test_arr).reshape(2,2,1,4)"
   ]
  },
  {
   "cell_type": "code",
   "execution_count": 95,
   "metadata": {
    "collapsed": false
   },
   "outputs": [
    {
     "data": {
      "text/plain": [
       "(2, 2, 1, 4)"
      ]
     },
     "execution_count": 95,
     "metadata": {},
     "output_type": "execute_result"
    }
   ],
   "source": [
    "np.array(test_arr).reshape(2,2,1,4).shape"
   ]
  },
  {
   "cell_type": "code",
   "execution_count": null,
   "metadata": {
    "collapsed": true
   },
   "outputs": [],
   "source": []
  },
  {
   "cell_type": "code",
   "execution_count": null,
   "metadata": {
    "collapsed": true
   },
   "outputs": [],
   "source": []
  }
 ],
 "metadata": {
  "kernelspec": {
   "display_name": "Python 3",
   "language": "python",
   "name": "python3"
  },
  "language_info": {
   "codemirror_mode": {
    "name": "ipython",
    "version": 3
   },
   "file_extension": ".py",
   "mimetype": "text/x-python",
   "name": "python",
   "nbconvert_exporter": "python",
   "pygments_lexer": "ipython3",
   "version": "3.6.0"
  }
 },
 "nbformat": 4,
 "nbformat_minor": 2
}
