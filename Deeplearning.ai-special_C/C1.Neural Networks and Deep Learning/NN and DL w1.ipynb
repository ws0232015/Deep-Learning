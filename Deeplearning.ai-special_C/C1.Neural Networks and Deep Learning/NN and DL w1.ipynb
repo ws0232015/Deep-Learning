{
 "cells": [
  {
   "cell_type": "markdown",
   "metadata": {},
   "source": [
    "&copy;Copyright for [Shuang Wu] [2017]<br>\n",
    "Cite from the [coursera] named [Neural network and Machine Learning] from [deeplearning.ai]<br>\n",
    "Learning notes<br>"
   ]
  },
  {
   "cell_type": "markdown",
   "metadata": {},
   "source": [
    "# Welcome\n",
    "\n",
    "## Welcome\n",
    "AI is the new Electricity<br>\n",
    "Electricity had once transformed countless industries: transportation, manufacturing, healthcare, communications...<br>\n",
    "AI bring equally big transformation<br>\n",
    "\n",
    "### Course Learn\n",
    "1. NN and DL<br>\n",
    "    (1). built network, trainning <br>\n",
    "2. Improving DNN: Hyperparameter tuning, regularization and optimization<br>\n",
    "3. Structuring the ML project.(train/dev/test)<br>\n",
    "    (1). end-to-end<br>\n",
    "4. CNNs<br>\n",
    "5. NLP: Building sequence models<br>\n",
    "    (1). RNN<br>\n",
    "    (2). LSTM<br>"
   ]
  },
  {
   "cell_type": "markdown",
   "metadata": {},
   "source": [
    "# Intro to Deep Learning\n",
    "\n",
    "## What is NN\n",
    "\n",
    "### Housing Price prediction\n",
    "![img1](imgs/img1.jpg)<br>\n",
    "1. linear regression -> stright line<br>\n",
    "    (1). prices can not be negative, then set some value to 0.<br>\n",
    "    (2). simple NN: size $x$ to neuron to price $y$<br>\n",
    "![img2](imgs/img2.jpg)<br>\n",
    "2. ReLU: rectified Linear Unit<br>\n",
    "![img3](imgs/img3.jpg)<br>\n",
    "3. Predict with more features: <br>\n",
    "![img4](imgs/img4.jpg)<br>\n",
    "    (1). # of beds and size to found the family size<br>\n",
    "    (2). zip code to walkability<br>\n",
    "    (3). zip code and wealth to school quality<br>\n",
    "    (4). and the family size, walkability and school quality to determine the price, $y$<br>\n",
    "    (5). just need the input, $x$ and the output $y$. All the middle thing will be figure out by computer.\n",
    "4. transfer to NN:<br>\n",
    "    (1). Input features<br>\n",
    "    (2). layers<br>\n",
    "    (3). hidden layers<br>\n",
    "    (4). dense connected<br>\n",
    "    (5). enough data make sure map from $x$ to $y$\n",
    "![img5](imgs/img5.jpg)<br>"
   ]
  },
  {
   "cell_type": "markdown",
   "metadata": {},
   "source": [
    "## Supervised Learning w/ NN\n",
    "\n",
    "### Supervised learning\n",
    "1. Input some features and output some thing.<br>\n",
    "![img6](imgs/img6.jpg)<br>\n",
    "\n",
    "### NN Examples\n",
    "![img7](imgs/img7.jpg)<br>\n",
    "\n",
    "### Structured Data\n",
    "Each features are very well defined meaning)<br>\n",
    "![img8](imgs/img8.jpg)<br>\n",
    "\n",
    "### Unstructured Data\n",
    "Like Audio Image or text, pixel value or individual words.<br>\n",
    "![img9](imgs/img9.jpg)<br>"
   ]
  },
  {
   "cell_type": "markdown",
   "metadata": {
    "collapsed": true
   },
   "source": [
    "## Why DL taking off\n",
    "\n",
    "### Scale drives DL progress\n",
    "![img10](imgs/img10.jpg)<br>\n",
    "\n",
    "1. Data<br>\n",
    "2. Computation<br>\n",
    "3. Algorithms<br>\n",
    "    (1). Sigmoid function<br>\n",
    "        the learning slow<br>\n",
    "    (2). ReLU<br>\n",
    "    (3). better algorithms will give fast computation<br>\n",
    "![img11](imgs/img11.jpg)<br>\n",
    "10 min, 1 day, 1month"
   ]
  },
  {
   "cell_type": "markdown",
   "metadata": {},
   "source": [
    "## About this course\n",
    "\n",
    "### Outline\n",
    "1. W1: Introduction<br>\n",
    "2. W2: Basics of NN programming<br>\n",
    "3. W3: One hidden layer NN<br>\n",
    "4. W4: DNN<br>"
   ]
  },
  {
   "cell_type": "markdown",
   "metadata": {},
   "source": [
    "## Heroes of DL\n",
    "\n",
    "### Geoffrey Hinton\n"
   ]
  },
  {
   "cell_type": "code",
   "execution_count": null,
   "metadata": {
    "collapsed": true
   },
   "outputs": [],
   "source": []
  }
 ],
 "metadata": {
  "kernelspec": {
   "display_name": "Python 3",
   "language": "python",
   "name": "python3"
  },
  "language_info": {
   "codemirror_mode": {
    "name": "ipython",
    "version": 3
   },
   "file_extension": ".py",
   "mimetype": "text/x-python",
   "name": "python",
   "nbconvert_exporter": "python",
   "pygments_lexer": "ipython3",
   "version": "3.6.0"
  }
 },
 "nbformat": 4,
 "nbformat_minor": 2
}
