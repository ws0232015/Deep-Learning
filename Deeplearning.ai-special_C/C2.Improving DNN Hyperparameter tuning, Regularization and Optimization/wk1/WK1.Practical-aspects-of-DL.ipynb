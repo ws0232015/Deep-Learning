{
 "cells": [
  {
   "cell_type": "markdown",
   "metadata": {},
   "source": [
    "&copy;Copyright for [Shuang Wu] [2017]<br>\n",
    "Cite from the [coursera] named [Neural network and Machine Learning] from [deeplearning.ai]<br>\n",
    "Learning notes<br>"
   ]
  },
  {
   "cell_type": "markdown",
   "metadata": {},
   "source": [
    "# Setting up your ML app."
   ]
  },
  {
   "cell_type": "markdown",
   "metadata": {},
   "source": [
    "## Train / Dev / Test sets\n",
    "\n",
    "* Iterative process to find:\n",
    "    * #of layers\n",
    "    * #of hidden units\n",
    "    * learning rates\n",
    "    * activation\n",
    "    * etc.\n",
    "    \n",
    "* Train / Dev / Test sets\n",
    "    * Training set\n",
    "        * pre: 70%/60%\n",
    "        * big data: 98%/99.5%\n",
    "    * Hold-out cros validation set (Development set)('dev')\n",
    "        * pre: 20%\n",
    "        * big data: 1%\n",
    "    * Test set\n",
    "        * pre: 30%/20%\n",
    "        * big data: 1%\n",
    "\n",
    "* Mismatched train/test distr.\n",
    "    * training set:\n",
    "        * cat picturec from webpages\n",
    "    * Dev/test sets:\n",
    "        * cat pictures from users using your app\n",
    "    * then ditr. from this two set maybe different\n",
    "    * Make sure dev and test come from same distribution\n",
    "    * Not having a test set might be okay. (Only dev set.)"
   ]
  },
  {
   "cell_type": "code",
   "execution_count": null,
   "metadata": {
    "collapsed": true
   },
   "outputs": [],
   "source": []
  }
 ],
 "metadata": {
  "kernelspec": {
   "display_name": "Python 3",
   "language": "python",
   "name": "python3"
  },
  "language_info": {
   "codemirror_mode": {
    "name": "ipython",
    "version": 3
   },
   "file_extension": ".py",
   "mimetype": "text/x-python",
   "name": "python",
   "nbconvert_exporter": "python",
   "pygments_lexer": "ipython3",
   "version": "3.6.0"
  }
 },
 "nbformat": 4,
 "nbformat_minor": 2
}
