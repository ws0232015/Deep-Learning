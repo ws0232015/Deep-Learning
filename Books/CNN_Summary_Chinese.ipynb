{
 "cells": [
  {
   "cell_type": "markdown",
   "metadata": {},
   "source": [
    "&Copy; Copyright for Shuang Wu 2017<br>\n",
    "Cite from several chinese website talk about CNN<br>\n",
    "1. http://www.cnblogs.com/ronny/p/ann_03.html<br>\n",
    "2. <br>\n",
    "\n",
    "Study notes for myself<br>"
   ]
  },
  {
   "cell_type": "markdown",
   "metadata": {},
   "source": [
    "### 卷积\n",
    "离散型卷积公式：<br>\n",
    "$$f(x,y)\\cdot w(x,y) = \\sum^a_{s=-a}\\quad\\sum^b_{t=-b}w(s,t)f(x-s,y-t)$$<br>\n",
    "其中：$I=f(x,y)$是输入图像， $w(x,y)$叫做滤波器、卷积核、响应函数等，$a$和$b$定了了滤波器的大小。<br>\n",
    "从公式中发现卷积提供了一个权重模板，这个模板在图像上滑动，并将中心依次与图像中每一个像素对齐，然后对这个模板覆盖的所有像素进行加权，并将结果作为这个卷积核在图像上该点的响应。所以：\n",
    "1. 卷积是线性运算\n",
    "2. 卷积核的大小，定义了图像中任何一点参与运算的领域的大小\n",
    "3. 卷积核上的权值大小说明了对应的领域点对最后结果的贡献能力，权重大贡献大\n",
    "4. 卷积核沿着图像所有像素移动并计算响应\n",
    "5. 在处理边缘时如果覆盖区域图像不够可以用内层像素镜像复制，也可直接用0填充\n",
    "\n",
    "### 卷积层特征\n",
    "根据深度学习关于人的视觉分层的理论，人的视觉对目标的辨识是分层的，低层会提取一些边缘特征，然后高一些层次进行形状或目标的认知，更高层的会分析一些运动和行为。也就是说高层的特征是低层特征的组合，从低层到高层的特征表示越来越抽象，越来越能表现语义或者意图。而抽象层面越高，存在的可能猜测就越少，就越利于分类。而深度学习就是通过这种分层的自动特征提取来达到目标分类，先构建一些基本的特征层，然后用这些基础特征去构建更高层的抽象，更精准的分类特征。\n",
    "\n",
    "### 卷积神经网络\n",
    "卷积神经网络里有特征抽取层与降维层。"
   ]
  },
  {
   "cell_type": "code",
   "execution_count": null,
   "metadata": {
    "collapsed": true
   },
   "outputs": [],
   "source": []
  }
 ],
 "metadata": {
  "kernelspec": {
   "display_name": "Python 3",
   "language": "python",
   "name": "python3"
  },
  "language_info": {
   "codemirror_mode": {
    "name": "ipython",
    "version": 3
   },
   "file_extension": ".py",
   "mimetype": "text/x-python",
   "name": "python",
   "nbconvert_exporter": "python",
   "pygments_lexer": "ipython3",
   "version": "3.6.0"
  }
 },
 "nbformat": 4,
 "nbformat_minor": 2
}
